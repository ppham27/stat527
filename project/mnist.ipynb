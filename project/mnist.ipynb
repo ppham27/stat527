{
 "cells": [
  {
   "cell_type": "code",
   "execution_count": 2,
   "metadata": {},
   "outputs": [],
   "source": [
    "import jax\n",
    "from jax import numpy as jnp\n",
    "from matplotlib import pyplot as plt\n",
    "import numpy as np\n",
    "import scipy\n",
    "import tensorflow as tf\n",
    "import tensorflow_datasets as tfds\n",
    "\n",
    "np.set_printoptions(suppress=True)\n",
    "tf.config.experimental.set_visible_devices([], 'GPU')"
   ]
  },
  {
   "cell_type": "code",
   "execution_count": 3,
   "metadata": {},
   "outputs": [],
   "source": [
    "dataset_builder = tfds.builder('mnist')\n",
    "train_dataset = dataset_builder.as_dataset(\n",
    "    split=tfds.Split.TRAIN,\n",
    "    batch_size=dataset_builder.info.splits[tfds.Split.TRAIN].num_examples,\n",
    "    as_supervised=True)\n",
    "test_dataset = dataset_builder.as_dataset(\n",
    "    split=tfds.Split.TEST,\n",
    "    batch_size=dataset_builder.info.splits[tfds.Split.TEST].num_examples,\n",
    "    as_supervised=True)"
   ]
  },
  {
   "cell_type": "code",
   "execution_count": 5,
   "metadata": {},
   "outputs": [],
   "source": [
    "train_images, train_labels = next(tfds.as_numpy(train_dataset))\n",
    "test_images, test_labels = next(tfds.as_numpy(test_dataset))"
   ]
  },
  {
   "cell_type": "code",
   "execution_count": 6,
   "metadata": {},
   "outputs": [],
   "source": [
    "train_images = jax.device_put(train_images) / 255.\n",
    "test_images = jax.device_put(test_images) / 255.\n",
    "train_labels = jax.device_put(train_labels)\n",
    "test_labels = jax.device_put(test_labels)"
   ]
  },
  {
   "cell_type": "code",
   "execution_count": 7,
   "metadata": {},
   "outputs": [],
   "source": [
    "def pairwise_similarity(x, y, sigma2=32.):\n",
    "    l2_distance = jnp.squeeze(jnp.sum(jnp.square(x - y),\n",
    "                                      axis=[i for i in range(1, len(x.shape))]))\n",
    "    return jnp.exp(-l2_distance/(2 * sigma2))\n",
    "\n",
    "pairwise_similarity = jax.jit(jax.vmap(pairwise_similarity, (0, None)))\n",
    "#K = []\n",
    "#for i in range(0, len(train_images), 10000):\n",
    "#    K.append(pairwise_similarity(train_images[i:(i + 10000)], train_images).block_until_ready())"
   ]
  },
  {
   "cell_type": "code",
   "execution_count": 8,
   "metadata": {},
   "outputs": [],
   "source": [
    "# Sample\n",
    "key = jax.random.PRNGKey(2020)\n",
    "indices = jax.random.uniform(key, [len(train_images)]) < 0.03\n",
    "train_images, train_labels = train_images[indices], train_labels[indices]"
   ]
  },
  {
   "cell_type": "code",
   "execution_count": 9,
   "metadata": {},
   "outputs": [],
   "source": [
    "train_labels_one_hot = jnp.eye(10)[train_labels]"
   ]
  },
  {
   "cell_type": "code",
   "execution_count": 10,
   "metadata": {},
   "outputs": [],
   "source": [
    "K = pairwise_similarity(train_images, train_images)\n",
    "K_inv = jnp.linalg.inv(K)"
   ]
  },
  {
   "cell_type": "code",
   "execution_count": 11,
   "metadata": {},
   "outputs": [],
   "source": [
    "f = jnp.zeros((len(K), 10))"
   ]
  },
  {
   "cell_type": "code",
   "execution_count": 12,
   "metadata": {},
   "outputs": [
    {
     "data": {
      "text/plain": [
       "DeviceArray(2.3025854, dtype=float32)"
      ]
     },
     "execution_count": 12,
     "metadata": {},
     "output_type": "execute_result"
    }
   ],
   "source": [
    "@jax.jit\n",
    "def loss(y, f, K_inv):\n",
    "    return -(-0.5 * np.sum(jnp.einsum('bd,bd->d', f, jnp.dot(K_inv, f)))\n",
    "            + jnp.sum(y * f) - jnp.sum(jnp.log(jnp.sum(jnp.exp(f), -1)))) / len(K)\n",
    "\n",
    "loss(train_labels_one_hot, f, K_inv)"
   ]
  },
  {
   "cell_type": "code",
   "execution_count": 13,
   "metadata": {},
   "outputs": [],
   "source": [
    "loss_value_and_grad = jax.value_and_grad(loss, argnums=1)"
   ]
  },
  {
   "cell_type": "code",
   "execution_count": 14,
   "metadata": {},
   "outputs": [],
   "source": [
    "step_size = 10.\n",
    "current_loss = loss(train_labels_one_hot, f, K_inv)"
   ]
  },
  {
   "cell_type": "code",
   "execution_count": 15,
   "metadata": {},
   "outputs": [
    {
     "name": "stdout",
     "output_type": "stream",
     "text": [
      "0 2.3025854\n",
      "1000 0.99362236\n",
      "2000 0.89590555\n",
      "3000 0.871964\n",
      "4000 0.8628172\n",
      "5000 0.85855216\n",
      "6000 0.8564955\n"
     ]
    },
    {
     "data": {
      "text/plain": [
       "(DeviceArray(0.8564955, dtype=float32), 0.0006103515625)"
      ]
     },
     "execution_count": 15,
     "metadata": {},
     "output_type": "execute_result"
    }
   ],
   "source": [
    "for i in range(30000):\n",
    "    l, grad = loss_value_and_grad(train_labels_one_hot, f, K_inv)\n",
    "    if l > current_loss:\n",
    "        step_size /= 2.\n",
    "    current_loss = l\n",
    "    f -= step_size * grad\n",
    "    if step_size < 1e-3:\n",
    "        break \n",
    "    if i % 1000 == 0:\n",
    "        print(i, l)\n",
    "l, step_size"
   ]
  },
  {
   "cell_type": "code",
   "execution_count": 16,
   "metadata": {},
   "outputs": [
    {
     "data": {
      "text/plain": [
       "DeviceArray(0.948, dtype=float32)"
      ]
     },
     "execution_count": 16,
     "metadata": {},
     "output_type": "execute_result"
    }
   ],
   "source": [
    "jnp.sum(train_labels == jnp.argmax(f, -1)) / len(train_labels)"
   ]
  },
  {
   "cell_type": "code",
   "execution_count": 17,
   "metadata": {},
   "outputs": [],
   "source": [
    "k = pairwise_similarity(test_images, train_images)"
   ]
  },
  {
   "cell_type": "code",
   "execution_count": 18,
   "metadata": {},
   "outputs": [],
   "source": [
    "logits = k.dot(jnp.dot(K_inv, f))\n",
    "predictions = jnp.argmax(logits, -1)"
   ]
  },
  {
   "cell_type": "code",
   "execution_count": 19,
   "metadata": {},
   "outputs": [
    {
     "data": {
      "text/plain": [
       "DeviceArray(0.9093, dtype=float32)"
      ]
     },
     "execution_count": 19,
     "metadata": {},
     "output_type": "execute_result"
    }
   ],
   "source": [
    "np.sum(predictions == test_labels) / len(test_labels)"
   ]
  },
  {
   "cell_type": "code",
   "execution_count": 20,
   "metadata": {},
   "outputs": [],
   "source": [
    "p = jnp.exp(f) / jnp.sum(jnp.exp(f), -1, keepdims=True)\n",
    "P = jnp.vstack([jnp.diag(jnp.squeeze(x)) for x in jnp.split(p, 10, axis=1)])\n",
    "P = jnp.dot(P, P.T)\n",
    "W = jnp.diag(p.T.reshape((-1))) - 0.99 * P"
   ]
  },
  {
   "cell_type": "code",
   "execution_count": 21,
   "metadata": {},
   "outputs": [],
   "source": [
    "W_inv = jnp.linalg.inv(W)\n",
    "for i in range(10):\n",
    "    W_inv = jax.ops.index_add(\n",
    "        W_inv,\n",
    "        jax.ops.index[(i*k.shape[1]):((i +1)*k.shape[1]),(i*k.shape[1]):((i +1)*k.shape[1])],\n",
    "        K)"
   ]
  },
  {
   "cell_type": "code",
   "execution_count": 32,
   "metadata": {},
   "outputs": [],
   "source": [
    "Q = jnp.zeros((10 * k.shape[1], 10))\n",
    "for i in range(10):\n",
    "    Q = jax.ops.index_update(Q, jax.ops.index[(i*k.shape[1]):((i +1)*k.shape[1]), i], k[0])"
   ]
  },
  {
   "cell_type": "code",
   "execution_count": 33,
   "metadata": {},
   "outputs": [],
   "source": [
    "V = jnp.eye(10) - jnp.dot(Q.T, jnp.linalg.inv(W_inv)).dot(Q)"
   ]
  },
  {
   "cell_type": "code",
   "execution_count": 34,
   "metadata": {},
   "outputs": [
    {
     "data": {
      "text/plain": [
       "(DeviceArray([0.7990684 , 0.84223247, 0.72025645, 0.8083943 , 0.79045683,\n",
       "              0.8055764 , 0.81172144, 0.8219196 , 0.8030503 , 0.806748  ],            dtype=float32),\n",
       " DeviceArray(2, dtype=int32),\n",
       " DeviceArray(2, dtype=int32))"
      ]
     },
     "execution_count": 34,
     "metadata": {},
     "output_type": "execute_result"
    }
   ],
   "source": [
    "jnp.diag(V), predictions[0], test_labels[0]"
   ]
  },
  {
   "cell_type": "code",
   "execution_count": 35,
   "metadata": {},
   "outputs": [],
   "source": [
    "key = jax.random.PRNGKey(2020)\n",
    "key, *subkeys = jax.random.split(key, 8)\n",
    "#subkeys\n",
    "#jax.random.PRNGKey()"
   ]
  },
  {
   "cell_type": "code",
   "execution_count": 36,
   "metadata": {},
   "outputs": [],
   "source": [
    "L = jnp.linalg.cholesky(V)"
   ]
  },
  {
   "cell_type": "code",
   "execution_count": 37,
   "metadata": {},
   "outputs": [],
   "source": [
    "def sample_distributions(key, L, logits):\n",
    "    p = jnp.exp(L.dot(jax.random.normal(key, shape=[10])) + logits)\n",
    "    return p/jnp.sum(p, -1, keepdims=True)\n",
    "\n",
    "dist = jax.vmap(sample_distributions, (0, None, None))(jnp.vstack(subkeys), L, logits[0])"
   ]
  },
  {
   "cell_type": "code",
   "execution_count": 39,
   "metadata": {},
   "outputs": [
    {
     "data": {
      "image/png": "[encoded data removed]",
      "text/plain": [
       "<Figure size 720x288 with 8 Axes>"
      ]
     },
     "metadata": {
      "needs_background": "light"
     },
     "output_type": "display_data"
    }
   ],
   "source": [
    "fig, axes = plt.subplots(nrows=2, ncols=4, figsize=(10, 4))\n",
    "for i, ax in enumerate(axes.reshape((-1))):\n",
    "    ax.bar(list(range(10)), dist[i])\n",
    "fig.savefig('2_distribution.pdf')"
   ]
  },
  {
   "cell_type": "code",
   "execution_count": 41,
   "metadata": {},
   "outputs": [
    {
     "data": {
      "image/png": "[encoded data removed]",
      "text/plain": [
       "<Figure size 216x216 with 1 Axes>"
      ]
     },
     "metadata": {
      "needs_background": "light"
     },
     "output_type": "display_data"
    }
   ],
   "source": [
    "fig = plt.figure(figsize=(3,3))\n",
    "ax = fig.gca()\n",
    "ax.imshow(np.squeeze(test_images[0]), cmap='gray')\n",
    "ax.axis('off')\n",
    "fig.savefig('2_image.pdf')"
   ]
  }
 ],
 "metadata": {
  "kernelspec": {
   "display_name": "Python 3",
   "language": "python",
   "name": "python3"
  },
  "language_info": {
   "codemirror_mode": {
    "name": "ipython",
    "version": 3
   },
   "file_extension": ".py",
   "mimetype": "text/x-python",
   "name": "python",
   "nbconvert_exporter": "python",
   "pygments_lexer": "ipython3",
   "version": "3.6.9"
  }
 },
 "nbformat": 4,
 "nbformat_minor": 4
}
